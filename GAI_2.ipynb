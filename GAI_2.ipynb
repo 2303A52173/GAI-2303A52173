{
  "nbformat": 4,
  "nbformat_minor": 0,
  "metadata": {
    "colab": {
      "provenance": [],
      "authorship_tag": "ABX9TyNh63Uvp3xeKuvlHhZ2c/1X",
      "include_colab_link": true
    },
    "kernelspec": {
      "name": "python3",
      "display_name": "Python 3"
    },
    "language_info": {
      "name": "python"
    }
  },
  "cells": [
    {
      "cell_type": "markdown",
      "metadata": {
        "id": "view-in-github",
        "colab_type": "text"
      },
      "source": [
        "<a href=\"https://colab.research.google.com/github/2303A52173/GAI-2303A52173/blob/main/GAI_2.ipynb\" target=\"_parent\"><img src=\"https://colab.research.google.com/assets/colab-badge.svg\" alt=\"Open In Colab\"/></a>"
      ]
    },
    {
      "cell_type": "markdown",
      "source": [
        "K Sai Praneeth\n",
        "\n",
        "2303A52173\n",
        "\n",
        "batch -41"
      ],
      "metadata": {
        "id": "5uNbnxjtQrnt"
      }
    },
    {
      "cell_type": "markdown",
      "source": [
        "QUESTION-1\n"
      ],
      "metadata": {
        "id": "kMpOrg0nQvdI"
      }
    },
    {
      "cell_type": "code",
      "source": [
        "from scipy.optimize import linprog\n",
        "c = [-6, -5]\n",
        "A_ub = [\n",
        " [1, 1],\n",
        " [3, 2]\n",
        "]\n",
        "b_ub = [5, 12]\n",
        "x_bounds = (0, None)\n",
        "y_bounds = (0, None)\n",
        "result = linprog(c, A_ub=A_ub, b_ub=b_ub, bounds=[x_bounds, y_bounds],method=\"highs\")\n",
        "if result.success:\n",
        " print(f\"Optimal number of A to produce: {result.x[0]:.2f}\")\n",
        " print(f\"Optimal number of B to produce: {result.x[1]:.2f}\")\n",
        " print(f\"Maximum Profit: {-result.fun:.2f}\")\n",
        "else:\n",
        " print(\"Optimization failed:\", result.message)\n",
        "\n"
      ],
      "metadata": {
        "colab": {
          "base_uri": "https://localhost:8080/"
        },
        "id": "ydvXeL6JQzCS",
        "outputId": "fe7acb64-113c-4e6d-8da9-e8fad5aaa664"
      },
      "execution_count": 2,
      "outputs": [
        {
          "output_type": "stream",
          "name": "stdout",
          "text": [
            "Optimal number of A to produce: 2.00\n",
            "Optimal number of B to produce: 3.00\n",
            "Maximum Profit: 27.00\n"
          ]
        }
      ]
    },
    {
      "cell_type": "markdown",
      "source": [
        "QUESTION-2"
      ],
      "metadata": {
        "id": "N04zgXUZWqT1"
      }
    },
    {
      "cell_type": "code",
      "source": [
        "from scipy.optimize import linprog\n",
        "c = [-50, -120]\n",
        "A_ub = [\n",
        " [1, 1],\n",
        " [7000, 2000],\n",
        " [10, 30]\n",
        "]\n",
        "b_ub = [110, 700000, 1200]\n",
        "x_bounds = (0, None)\n",
        "y_bounds = (0, None)\n",
        "result = linprog(c, A_ub=A_ub, b_ub=b_ub, bounds=[x_bounds, y_bounds],method=\"highs\")\n",
        "if result.success:\n",
        " print(f\"Optimal hectares of Wheat (x1): {result.x[0]:.2f}\")\n",
        " print(f\"Optimal hectares of Barley (x2): {result.x[1]:.2f}\")\n",
        " print(f\"Maximum Profit: {-result.fun:.2f}\")\n",
        "else:\n",
        " print(\"Optimization failed:\", result.message)\n"
      ],
      "metadata": {
        "colab": {
          "base_uri": "https://localhost:8080/"
        },
        "id": "cGPZVTOlWttC",
        "outputId": "fa48d48a-e98d-4ba3-f499-e150bb1cf7bf"
      },
      "execution_count": 4,
      "outputs": [
        {
          "output_type": "stream",
          "name": "stdout",
          "text": [
            "Optimal hectares of Wheat (x1): 97.89\n",
            "Optimal hectares of Barley (x2): 7.37\n",
            "Maximum Profit: 5778.95\n"
          ]
        }
      ]
    }
  ]
}