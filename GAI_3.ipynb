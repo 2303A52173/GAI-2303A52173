{
  "nbformat": 4,
  "nbformat_minor": 0,
  "metadata": {
    "colab": {
      "provenance": [],
      "authorship_tag": "ABX9TyPUsfvlYTygrBkyBz3i7Zjv",
      "include_colab_link": true
    },
    "kernelspec": {
      "name": "python3",
      "display_name": "Python 3"
    },
    "language_info": {
      "name": "python"
    }
  },
  "cells": [
    {
      "cell_type": "markdown",
      "metadata": {
        "id": "view-in-github",
        "colab_type": "text"
      },
      "source": [
        "<a href=\"https://colab.research.google.com/github/2303A52173/GAI-2303A52173/blob/main/GAI_3.ipynb\" target=\"_parent\"><img src=\"https://colab.research.google.com/assets/colab-badge.svg\" alt=\"Open In Colab\"/></a>"
      ]
    },
    {
      "cell_type": "markdown",
      "source": [
        "K Sai Praneeth\n",
        "\n",
        "2303a52173\n",
        "\n",
        "batch-41"
      ],
      "metadata": {
        "id": "vPyoSqCn32tl"
      }
    },
    {
      "cell_type": "markdown",
      "source": [
        "1 Question 1\n",
        "Write Python code without using any libraries to find the value of x at which\n",
        "the function f(x) shown in equation (1) has minimum value. Consider Gradient Descent\n",
        "Algorithm. f (x) = 5x4 + 3x2 + 10"
      ],
      "metadata": {
        "id": "JYDGTLLw3-x8"
      }
    },
    {
      "cell_type": "code",
      "execution_count": 2,
      "metadata": {
        "colab": {
          "base_uri": "https://localhost:8080/"
        },
        "id": "JnNtkTJ63u_M",
        "outputId": "f85c6ab3-b74d-4149-c7d4-6e03a0efd94b"
      },
      "outputs": [
        {
          "output_type": "stream",
          "name": "stdout",
          "text": [
            "Minimum value of f(x): 10.000000000802812\n",
            "Value of x at minimum f(x): 1.63586104206045e-05\n"
          ]
        }
      ],
      "source": [
        "def f(x):\n",
        "  return 5 * x**4 + 3 * x**2 + 10\n",
        "def gradient(x):\n",
        "  return 20 * x**3 + 6 * x\n",
        "def gradient_descent(start_x, learning_rate, tolerance, max_iterations):\n",
        "  x = start_x\n",
        "  iteration = 0\n",
        "  while iteration < max_iterations:\n",
        "    grad = gradient(x)\n",
        "    new_x = x - learning_rate * grad\n",
        "    if abs(new_x - x) < tolerance:\n",
        "      break\n",
        "    x = new_x\n",
        "    iteration += 1\n",
        "  return x, f(x)\n",
        "start_x = 1.0\n",
        "learning_rate = 0.01\n",
        "tolerance = 1e-6\n",
        "max_iterations = 10000\n",
        "x_min, f_min = gradient_descent(start_x, learning_rate, tolerance,max_iterations)\n",
        "print(\"Minimum value of f(x):\", f_min)\n",
        "print(\"Value of x at minimum f(x):\", x_min)\n",
        "\n"
      ]
    },
    {
      "cell_type": "markdown",
      "source": [
        "Question 2\n",
        "\n",
        " Write Python code without using any libraries to find the value of x and y at which\n",
        "the function g(x,y) shown in equation (2) has minimum value. Consider Gradient Descent\n",
        "Algorithm. f (x) = 3x2 + 5e−y + 10\n"
      ],
      "metadata": {
        "id": "spYOqMiH43sM"
      }
    },
    {
      "cell_type": "code",
      "source": [
        "def g(x, y):\n",
        "  return 3 * x**2 + 5 * (2.718281828459045 ** -y) + 10\n",
        "def gradient_x(x):\n",
        "  return 6 * x\n",
        "def gradient_y(y):\n",
        "  return -5 * (2.718281828459045 ** -y)\n",
        "def gradient_descent_2d(start_x, start_y, learning_rate, tolerance,max_iterations):\n",
        "  x, y = start_x, start_y\n",
        "  iteration = 0\n",
        "  while iteration < max_iterations:\n",
        "    grad_x = gradient_x(x)\n",
        "    grad_y = gradient_y(y)\n",
        "    new_x = x - learning_rate * grad_x\n",
        "    new_y = y - learning_rate * grad_y\n",
        "    if abs(new_x - x) < tolerance and abs(new_y - y) < tolerance:\n",
        "      break\n",
        "    x, y = new_x, new_y\n",
        "    iteration += 1\n",
        "  return x, y, g(x, y)\n",
        "start_x = 1.0\n",
        "start_y = 1.0\n",
        "learning_rate = 0.01\n",
        "tolerance = 1e-6\n",
        "max_iterations = 10000\n",
        "x_min, y_min, g_min = gradient_descent_2d(start_x, start_y, learning_rate,tolerance, max_iterations)\n",
        "print(\"Minimum value of g(x, y):\", g_min)\n",
        "print(\"Value of x at minimum g(x, y):\", x_min)\n",
        "print(\"Value of y at minimum g(x, y):\", y_min)\n",
        "\n"
      ],
      "metadata": {
        "colab": {
          "base_uri": "https://localhost:8080/"
        },
        "id": "SZXgm5J75CgQ",
        "outputId": "b5ec4a3b-f4cb-4d40-9352-7ccf311a39de"
      },
      "execution_count": 3,
      "outputs": [
        {
          "output_type": "stream",
          "name": "stdout",
          "text": [
            "Minimum value of g(x, y): 10.009943343967636\n",
            "Value of x at minimum g(x, y): 1.8990482403275175e-269\n",
            "Value of y at minimum g(x, y): 6.2202898120675485\n"
          ]
        }
      ]
    },
    {
      "cell_type": "markdown",
      "source": [
        "Question 3\n",
        "\n",
        "Write Python code without using any libraries to find the value of x at which the\n",
        "sigmoid function z(x) shown in equation (3) has minimum value. Consider Gradient Descent\n",
        "Algorithm. z(x) = 1/ 1 + e−x\n"
      ],
      "metadata": {
        "id": "UoJNpZRJ58K3"
      }
    },
    {
      "cell_type": "code",
      "source": [
        "def z(x):\n",
        "  return 1 / (1 + 2.718281828459045 ** -x)\n",
        "def gradient(x):\n",
        "  sigmoid = z(x)\n",
        "  return sigmoid * (1 - sigmoid)\n",
        "def gradient_descent(start_x, learning_rate, tolerance, max_iterations):\n",
        "  x = start_x\n",
        "  iteration = 0\n",
        "  while iteration < max_iterations:\n",
        "    grad = gradient(x)\n",
        "    new_x = x - learning_rate * grad\n",
        "    if abs(new_x - x) < tolerance:\n",
        "      break\n",
        "    x = new_x\n",
        "    iteration += 1\n",
        "  return x, z(x)\n",
        "start_x = 1.0\n",
        "learning_rate = 0.01\n",
        "tolerance = 1e-6\n",
        "max_iterations = 10000\n",
        "x_min, z_min = gradient_descent(start_x, learning_rate, tolerance,max_iterations)\n",
        "print(\"Minimum value of z(x):\", z_min)\n",
        "print(\"Value of x at minimum z(x):\", x_min)\n"
      ],
      "metadata": {
        "colab": {
          "base_uri": "https://localhost:8080/"
        },
        "id": "nvqJHemh6Dhh",
        "outputId": "f51e5ef0-e7cf-4761-e48e-9629cea86195"
      },
      "execution_count": 5,
      "outputs": [
        {
          "output_type": "stream",
          "name": "stdout",
          "text": [
            "Minimum value of z(x): 0.011396092394121144\n",
            "Value of x at minimum z(x): -4.463023229336288\n"
          ]
        }
      ]
    },
    {
      "cell_type": "markdown",
      "source": [
        "Question 4\n",
        "\n",
        "Write Python code without using any libraries to find the value of optimal values\n",
        "of model parameters M and C such that the model’s Square Error Value shown in equation 4\n",
        "will be minimum. It means model gives output close to expected output as shown in Figure\n",
        "1 Figura 1: AI Model SE = (ExpectedOutput − P redictedOutput)2\n"
      ],
      "metadata": {
        "id": "9BygkTAy7Mo5"
      }
    },
    {
      "cell_type": "code",
      "source": [
        "def model(input_value, M, C):\n",
        "  return M * input_value + C\n",
        "def square_error(output, expected_output):\n",
        "  return (output - expected_output) ** 2\n",
        "def gradients(input_value, M, C, expected_output):\n",
        "  output = model(input_value, M, C)\n",
        "  error = output - expected_output\n",
        "  grad_M = 2 * error * input_value\n",
        "  grad_C = 2 * error\n",
        "  return grad_M, grad_C\n",
        "def gradient_descent(input_value, expected_output, start_M, start_C,learning_rate, tolerance, max_iterations):\n",
        "  M, C = start_M, start_C\n",
        "  iteration = 0\n",
        "  while iteration < max_iterations:\n",
        "    grad_M, grad_C = gradients(input_value, M, C, expected_output)\n",
        "    new_M = M - learning_rate * grad_M\n",
        "    new_C = C - learning_rate * grad_C\n",
        "    if abs(new_M - M) < tolerance and abs(new_C - C) < tolerance:\n",
        "      break\n",
        "    M, C = new_M, new_C\n",
        "    iteration += 1\n",
        "  return M, C, square_error(model(input_value, M, C), expected_output)\n",
        "input_value = 2.0\n",
        "expected_output = 0.5\n",
        "start_M = 0.0\n",
        "start_C = 0.0\n",
        "learning_rate = 0.01\n",
        "tolerance = 1e-6\n",
        "max_iterations = 10000\n",
        "optimal_M, optimal_C, min_error = gradient_descent(input_value, expected_output, start_M, start_C, learning_rate, tolerance,max_iterations)\n",
        "print(\"Optimal value of M:\", optimal_M)\n",
        "print(\"Optimal value of C:\", optimal_C)\n",
        "print(\"Minimum square error:\", min_error)\n"
      ],
      "metadata": {
        "colab": {
          "base_uri": "https://localhost:8080/"
        },
        "id": "3VdDWA8z7TZh",
        "outputId": "c6502a9b-e377-4c91-cb35-225bba56c672"
      },
      "execution_count": 7,
      "outputs": [
        {
          "output_type": "stream",
          "name": "stdout",
          "text": [
            "Optimal value of M: 0.1999900040083894\n",
            "Optimal value of C: 0.0999950020041947\n",
            "Minimum square error: 6.244990517449996e-10\n"
          ]
        }
      ]
    }
  ]
}